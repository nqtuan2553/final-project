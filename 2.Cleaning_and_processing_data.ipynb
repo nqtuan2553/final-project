{
 "cells": [
  {
   "cell_type": "code",
   "execution_count": 1,
   "metadata": {},
   "outputs": [],
   "source": [
    "import numpy as np\n",
    "import pandas as pd\n",
    "import matplotlib.pyplot as plt\n",
    "import seaborn as sns"
   ]
  },
  {
   "cell_type": "code",
   "execution_count": 2,
   "metadata": {},
   "outputs": [],
   "source": [
    "data_df = pd.read_csv('./Data/sam.funny.csv')"
   ]
  },
  {
   "cell_type": "code",
   "execution_count": 3,
   "metadata": {},
   "outputs": [
    {
     "name": "stdout",
     "output_type": "stream",
     "text": [
      "<class 'pandas.core.frame.DataFrame'>\n",
      "RangeIndex: 300 entries, 0 to 299\n",
      "Data columns (total 51 columns):\n",
      " #   Column                         Non-Null Count  Dtype  \n",
      "---  ------                         --------------  -----  \n",
      " 0   post_id                        300 non-null    int64  \n",
      " 1   text                           300 non-null    object \n",
      " 2   post_text                      300 non-null    object \n",
      " 3   shared_text                    0 non-null      float64\n",
      " 4   original_text                  0 non-null      float64\n",
      " 5   time                           300 non-null    object \n",
      " 6   timestamp                      300 non-null    int64  \n",
      " 7   image                          298 non-null    object \n",
      " 8   image_lowquality               300 non-null    object \n",
      " 9   images                         300 non-null    object \n",
      " 10  images_description             300 non-null    object \n",
      " 11  images_lowquality              300 non-null    object \n",
      " 12  images_lowquality_description  300 non-null    object \n",
      " 13  video                          0 non-null      float64\n",
      " 14  video_duration_seconds         0 non-null      float64\n",
      " 15  video_height                   0 non-null      float64\n",
      " 16  video_id                       0 non-null      float64\n",
      " 17  video_quality                  0 non-null      float64\n",
      " 18  video_size_MB                  0 non-null      float64\n",
      " 19  video_thumbnail                0 non-null      float64\n",
      " 20  video_watches                  0 non-null      float64\n",
      " 21  video_width                    0 non-null      float64\n",
      " 22  likes                          108 non-null    float64\n",
      " 23  comments                       300 non-null    int64  \n",
      " 24  shares                         300 non-null    int64  \n",
      " 25  post_url                       300 non-null    object \n",
      " 26  link                           0 non-null      float64\n",
      " 27  links                          300 non-null    object \n",
      " 28  user_id                        300 non-null    int64  \n",
      " 29  username                       300 non-null    object \n",
      " 30  user_url                       300 non-null    object \n",
      " 31  is_live                        300 non-null    bool   \n",
      " 32  factcheck                      0 non-null      float64\n",
      " 33  shared_post_id                 0 non-null      float64\n",
      " 34  shared_time                    0 non-null      float64\n",
      " 35  shared_user_id                 0 non-null      float64\n",
      " 36  shared_username                0 non-null      float64\n",
      " 37  shared_post_url                0 non-null      float64\n",
      " 38  available                      300 non-null    bool   \n",
      " 39  comments_full                  300 non-null    object \n",
      " 40  reactors                       192 non-null    object \n",
      " 41  w3_fb_url                      192 non-null    object \n",
      " 42  reactions                      192 non-null    object \n",
      " 43  reaction_count                 300 non-null    int64  \n",
      " 44  with                           0 non-null      float64\n",
      " 45  page_id                        300 non-null    int64  \n",
      " 46  sharers                        0 non-null      float64\n",
      " 47  image_id                       293 non-null    float64\n",
      " 48  image_ids                      300 non-null    object \n",
      " 49  was_live                       300 non-null    bool   \n",
      " 50  fetched_time                   192 non-null    object \n",
      "dtypes: bool(3), float64(22), int64(7), object(19)\n",
      "memory usage: 113.5+ KB\n"
     ]
    }
   ],
   "source": [
    "data_df.info()"
   ]
  },
  {
   "cell_type": "markdown",
   "metadata": {},
   "source": [
    "### Loại bỏ các giá trị NaN và bỏ một số cột không sử dụng "
   ]
  },
  {
   "cell_type": "code",
   "execution_count": 4,
   "metadata": {},
   "outputs": [
    {
     "name": "stderr",
     "output_type": "stream",
     "text": [
      "C:\\Users\\DEll\\AppData\\Local\\Temp\\ipykernel_25608\\2924466452.py:3: SettingWithCopyWarning: \n",
      "A value is trying to be set on a copy of a slice from a DataFrame\n",
      "\n",
      "See the caveats in the documentation: https://pandas.pydata.org/pandas-docs/stable/user_guide/indexing.html#returning-a-view-versus-a-copy\n",
      "  df.drop(df.columns[5:12], axis=1, inplace=True)\n",
      "C:\\Users\\DEll\\AppData\\Local\\Temp\\ipykernel_25608\\2924466452.py:4: SettingWithCopyWarning: \n",
      "A value is trying to be set on a copy of a slice from a DataFrame\n",
      "\n",
      "See the caveats in the documentation: https://pandas.pydata.org/pandas-docs/stable/user_guide/indexing.html#returning-a-view-versus-a-copy\n",
      "  df.drop(df.columns[7:10], axis=1, inplace=True)\n",
      "C:\\Users\\DEll\\AppData\\Local\\Temp\\ipykernel_25608\\2924466452.py:5: SettingWithCopyWarning: \n",
      "A value is trying to be set on a copy of a slice from a DataFrame\n",
      "\n",
      "See the caveats in the documentation: https://pandas.pydata.org/pandas-docs/stable/user_guide/indexing.html#returning-a-view-versus-a-copy\n",
      "  df.drop(df.columns[8:11], axis=1, inplace=True)\n",
      "C:\\Users\\DEll\\AppData\\Local\\Temp\\ipykernel_25608\\2924466452.py:6: SettingWithCopyWarning: \n",
      "A value is trying to be set on a copy of a slice from a DataFrame\n",
      "\n",
      "See the caveats in the documentation: https://pandas.pydata.org/pandas-docs/stable/user_guide/indexing.html#returning-a-view-versus-a-copy\n",
      "  df.drop(df.columns[10], axis=1, inplace=True)\n",
      "C:\\Users\\DEll\\AppData\\Local\\Temp\\ipykernel_25608\\2924466452.py:7: SettingWithCopyWarning: \n",
      "A value is trying to be set on a copy of a slice from a DataFrame\n",
      "\n",
      "See the caveats in the documentation: https://pandas.pydata.org/pandas-docs/stable/user_guide/indexing.html#returning-a-view-versus-a-copy\n",
      "  df.drop(df.columns[12:], axis=1, inplace=True)\n"
     ]
    }
   ],
   "source": [
    "df = data_df\n",
    "df = df.dropna(axis='columns',thresh=100)\n",
    "df.drop(df.columns[5:12], axis=1, inplace=True)\n",
    "df.drop(df.columns[7:10], axis=1, inplace=True)\n",
    "df.drop(df.columns[8:11], axis=1, inplace=True)\n",
    "df.drop(df.columns[10], axis=1, inplace=True)\n",
    "df.drop(df.columns[12:], axis=1, inplace=True)\n",
    "df = df.dropna()\n",
    "df = df.reset_index()"
   ]
  },
  {
   "cell_type": "code",
   "execution_count": 5,
   "metadata": {},
   "outputs": [
    {
     "name": "stdout",
     "output_type": "stream",
     "text": [
      "<class 'pandas.core.frame.DataFrame'>\n",
      "RangeIndex: 192 entries, 0 to 191\n",
      "Data columns (total 13 columns):\n",
      " #   Column          Non-Null Count  Dtype \n",
      "---  ------          --------------  ----- \n",
      " 0   index           192 non-null    int64 \n",
      " 1   post_id         192 non-null    int64 \n",
      " 2   text            192 non-null    object\n",
      " 3   post_text       192 non-null    object\n",
      " 4   time            192 non-null    object\n",
      " 5   timestamp       192 non-null    int64 \n",
      " 6   comments        192 non-null    int64 \n",
      " 7   shares          192 non-null    int64 \n",
      " 8   username        192 non-null    object\n",
      " 9   comments_full   192 non-null    object\n",
      " 10  reactors        192 non-null    object\n",
      " 11  reactions       192 non-null    object\n",
      " 12  reaction_count  192 non-null    int64 \n",
      "dtypes: int64(6), object(7)\n",
      "memory usage: 19.6+ KB\n"
     ]
    }
   ],
   "source": [
    "df.info()"
   ]
  },
  {
   "cell_type": "markdown",
   "metadata": {},
   "source": [
    "### Thêm một số cột cần sử dụng"
   ]
  },
  {
   "cell_type": "code",
   "execution_count": 6,
   "metadata": {},
   "outputs": [],
   "source": [
    "to_time = lambda t:t.split(' ')[1]\n",
    "to_date = lambda t:t.split(' ')[0]\n",
    "to_hour = lambda t:t.split(':')[0]\n",
    "df[\"hour_minute_second\"] = df['time'].apply(to_time)\n",
    "df[\"hour\"] = df[\"hour_minute_second\"].apply(to_hour)\n",
    "df[\"d-m-y\"] = df['time'].apply(to_date)"
   ]
  },
  {
   "cell_type": "code",
   "execution_count": 7,
   "metadata": {},
   "outputs": [
    {
     "name": "stdout",
     "output_type": "stream",
     "text": [
      "<class 'pandas.core.frame.DataFrame'>\n",
      "RangeIndex: 192 entries, 0 to 191\n",
      "Data columns (total 16 columns):\n",
      " #   Column              Non-Null Count  Dtype \n",
      "---  ------              --------------  ----- \n",
      " 0   index               192 non-null    int64 \n",
      " 1   post_id             192 non-null    int64 \n",
      " 2   text                192 non-null    object\n",
      " 3   post_text           192 non-null    object\n",
      " 4   time                192 non-null    object\n",
      " 5   timestamp           192 non-null    int64 \n",
      " 6   comments            192 non-null    int64 \n",
      " 7   shares              192 non-null    int64 \n",
      " 8   username            192 non-null    object\n",
      " 9   comments_full       192 non-null    object\n",
      " 10  reactors            192 non-null    object\n",
      " 11  reactions           192 non-null    object\n",
      " 12  reaction_count      192 non-null    int64 \n",
      " 13  hour_minute_second  192 non-null    object\n",
      " 14  hour                192 non-null    object\n",
      " 15  d-m-y               192 non-null    object\n",
      "dtypes: int64(6), object(10)\n",
      "memory usage: 24.1+ KB\n"
     ]
    }
   ],
   "source": [
    "df.info()"
   ]
  },
  {
   "cell_type": "code",
   "execution_count": 8,
   "metadata": {},
   "outputs": [
    {
     "name": "stdout",
     "output_type": "stream",
     "text": [
      "Data/sam.funny_cleaning.xlsx\n",
      "Data/sam.funny_cleaning.xlsx\n"
     ]
    }
   ],
   "source": [
    "path = \"Data/sam.funny_cleaning.xlsx\"\n",
    "df.to_excel(path, index=False)\n",
    "print(path)\n",
    "path1 = \"Data/sam.funny_cleaning.csv\"\n",
    "df.to_csv(path1, index=False)\n",
    "print(path)"
   ]
  }
 ],
 "metadata": {
  "kernelspec": {
   "display_name": "Python 3",
   "language": "python",
   "name": "python3"
  },
  "language_info": {
   "codemirror_mode": {
    "name": "ipython",
    "version": 3
   },
   "file_extension": ".py",
   "mimetype": "text/x-python",
   "name": "python",
   "nbconvert_exporter": "python",
   "pygments_lexer": "ipython3",
   "version": "3.10.2"
  }
 },
 "nbformat": 4,
 "nbformat_minor": 2
}
